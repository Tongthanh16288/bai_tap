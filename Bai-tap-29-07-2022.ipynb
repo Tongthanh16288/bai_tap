{
 "cells": [
  {
   "cell_type": "code",
   "execution_count": 3,
   "id": "906f780b",
   "metadata": {},
   "outputs": [
    {
     "name": "stdout",
     "output_type": "stream",
     "text": [
      "Tổng thu nhập là:1000000\n",
      "Số người phụ thuộc:1\n",
      "Không đóng thuế TNCN\n"
     ]
    }
   ],
   "source": [
    "# Bài 1: Theo luật từ năm 2020 thuế suất thu nhập cá nhân được tính như sau:\n",
    "#         Nếu phần thu nhập tính thuế/tháng đến 5 triệu thì thuế suất là 5%.\n",
    "#         Trên 5 triệu đến 10 triệu thì thuế suất là 10%.\n",
    "#         Trên 10 triệu đến 18 triệu là 15%.\n",
    "#         Trên 18 triệu đến 32 triệu là 20%.\n",
    "#         Trên 32 triệu đến 52 triệu là 25%.\n",
    "#         Trên 52 triệu đến 80 triệu là 30%.\n",
    "#         Trên 80 triệu là 35%. Tính:\n",
    "# 2.\tThuế TNCN phải đóng khi biết tổng thu nhập và số người phụ thuộc.\n",
    "# Biết rằng, mức giảm trừ gia cảnh được áp dụng cho bản thân người đóng thuế là 11 triệu/tháng.\n",
    "# Mức áp dụng đối với người phụ thuộc là 4,4 triệu/tháng.\n",
    "# Thu nhập tính thuế thu nhập cá nhân là thu nhập còn lại sau khi tổng thu nhập đã trừ đi các tổng giảm trừ gia cảnh.\n",
    "\n",
    "a = float(input('Tổng thu nhập là:'))\n",
    "b = int(input('Số người phụ thuộc:'))\n",
    "#Thu nhập tính thuế \n",
    "c = a - 11000000 - b*4400000\n",
    "\n",
    "\n",
    "if c<=0:\n",
    "    print('Không đóng thuế TNCN')\n",
    "elif c <= 5000000:\n",
    "    thue = c*0.05\n",
    "    print('Thuế TNCN phải đóng là:',thue)\n",
    "elif c <= 10000000:\n",
    "    thue = c*0.1\n",
    "    print('Thuế TNCN phải đóng là:',thue)\n",
    "elif c<=18000000:\n",
    "    thue = c*0.15\n",
    "    print('Thuế TNCN phải đóng là:',thue)\n",
    "elif c<=32000000:\n",
    "    thue = c*0.2\n",
    "    print('Thuế TNCN phải đóng là:',thue)\n",
    "elif c<=52000000:\n",
    "    thue = c*0.25\n",
    "    print('Thuế TNCN phải đóng là:',thue)\n",
    "elif c<=80000000:\n",
    "    thue = c*0.3\n",
    "    print('Thuế TNCN phải đóng là:',thue)\n",
    "else:\n",
    "    thue = c*0.35\n",
    "    print('Thuế TNCN phải đóng là:',thue)\n"
   ]
  },
  {
   "cell_type": "code",
   "execution_count": 2,
   "id": "d8aa907a",
   "metadata": {},
   "outputs": [
    {
     "name": "stdout",
     "output_type": "stream",
     "text": [
      "Hoành độ điểm P = 2\n",
      "Tung độ điểm P = 0\n",
      "Điểm P nằm trong vùng D\n"
     ]
    }
   ],
   "source": [
    "#Cho một như bên dưới. Gọi D là vùng giới hạn bởi nửa đường tròn và hai đoạn thẳng.\n",
    "#Nhập vào toạ độ điểm P(x,y). Hỏi xem điểm P có nằm trong vùng D hay không?\n",
    "\n",
    "import math\n",
    "x = int(input('Hoành độ điểm P = '))\n",
    "y = int(input('Tung độ điểm P = '))\n",
    "test1 = 'Điểm P nằm trong vùng D'\n",
    "test2 = 'Điểm P không thuộc vùng D'\n",
    "if -2<=x<=0 and -2<=y<=2:\n",
    "    if (x**2 + y**2) <= 4:\n",
    "        print(test1)\n",
    "    else:\n",
    "        print(test2)\n",
    "elif 0<=x<=6 and -2<=y<=2:\n",
    "    if (x+3*y-6) <= 0 and (x-3*y-6) <= 0:\n",
    "        print(test1)\n",
    "    else:\n",
    "        print(test2)\n",
    "else:\n",
    "    print(test2)\n"
   ]
  },
  {
   "cell_type": "code",
   "execution_count": null,
   "id": "98cae457",
   "metadata": {},
   "outputs": [],
   "source": []
  },
  {
   "cell_type": "code",
   "execution_count": null,
   "id": "9b1fbe01",
   "metadata": {},
   "outputs": [],
   "source": []
  }
 ],
 "metadata": {
  "kernelspec": {
   "display_name": "Python 3 (ipykernel)",
   "language": "python",
   "name": "python3"
  },
  "language_info": {
   "codemirror_mode": {
    "name": "ipython",
    "version": 3
   },
   "file_extension": ".py",
   "mimetype": "text/x-python",
   "name": "python",
   "nbconvert_exporter": "python",
   "pygments_lexer": "ipython3",
   "version": "3.10.5"
  }
 },
 "nbformat": 4,
 "nbformat_minor": 5
}

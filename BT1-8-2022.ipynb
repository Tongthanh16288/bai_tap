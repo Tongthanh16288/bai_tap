{
 "cells": [
  {
   "cell_type": "code",
   "execution_count": 3,
   "id": "03c4c061",
   "metadata": {},
   "outputs": [
    {
     "name": "stdout",
     "output_type": "stream",
     "text": [
      "nhap vao 1 ma vach:4902778120972\n",
      "MA VACH DUNG\n"
     ]
    }
   ],
   "source": [
    "# Một vã vạch hàng hóa là một chuỗi có 13 chữ số, chữ số cuối cùng gọi là chữ số kiểm tra C.\n",
    "# Gọi A là tổng các chữ số ở vị trí lẻ (trừ chữ số kiểm tra C). \n",
    "# Gọi B là tổng các chữ số ở vị trí chẵn. Gọi D = A + 3B. \n",
    "# Nếu phần dư của D chia cho 10 khác không thì F=10-phần dư, ngược lại F = 0.\n",
    "# Một mã vạch được coi là mã vạch đúng nếu F=C. \n",
    "\n",
    "mv = input(\"nhap vao 1 ma vach:\")\n",
    "i = 1\n",
    "A = 0\n",
    "# A la tong vi tri so le\n",
    "B = 0 \n",
    "# B la tong vi tri so chan\n",
    "\n",
    "while i< 13:\n",
    "    if i %2 != 0:\n",
    "        A = A + int(mv[i-1])\n",
    "        i = i+1\n",
    "    elif i %2 == 0:\n",
    "        B = B +int(mv[i-1])\n",
    "        i = i+1\n",
    "D = A+3*B\n",
    "if D % 10 != 0:\n",
    "    F = 10 - D%10\n",
    "else:\n",
    "    F = 0\n",
    "if F == int(mv[i-1]):\n",
    "    KQ ='MA VACH DUNG'\n",
    "else:\n",
    "    KQ = ' MA VACH SAi'\n",
    "print(KQ)"
   ]
  },
  {
   "cell_type": "code",
   "execution_count": 4,
   "id": "1b381830",
   "metadata": {},
   "outputs": [
    {
     "name": "stdout",
     "output_type": "stream",
     "text": [
      "Nhap vao 1 so tu nhien N:123\n",
      "3 9 15 21 27 33 39 45 51 57 63 69 75 81 87 93 99 105 111 117 "
     ]
    }
   ],
   "source": [
    "# Nhập vào một số tự nhiên N.\n",
    "# In ra màn hình tất cả các số nhỏ hơn N và những số này chia kết cho 3 nhưng không chia hết cho 6.\n",
    "N = float(input(\"Nhap vao 1 so tu nhien N:\"))\n",
    "i = 0\n",
    "while i<N:\n",
    "    if i%3 == 0 and i%6 !=0:\n",
    "        print(i,end = \" \")\n",
    "    i += 1"
   ]
  },
  {
   "cell_type": "code",
   "execution_count": null,
   "id": "caafd9bf",
   "metadata": {},
   "outputs": [],
   "source": []
  }
 ],
 "metadata": {
  "kernelspec": {
   "display_name": "Python 3 (ipykernel)",
   "language": "python",
   "name": "python3"
  },
  "language_info": {
   "codemirror_mode": {
    "name": "ipython",
    "version": 3
   },
   "file_extension": ".py",
   "mimetype": "text/x-python",
   "name": "python",
   "nbconvert_exporter": "python",
   "pygments_lexer": "ipython3",
   "version": "3.9.12"
  }
 },
 "nbformat": 4,
 "nbformat_minor": 5
}

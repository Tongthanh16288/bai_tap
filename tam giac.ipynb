{
 "cells": [
  {
   "cell_type": "code",
   "execution_count": 1,
   "id": "7a932ba6",
   "metadata": {},
   "outputs": [
    {
     "name": "stdout",
     "output_type": "stream",
     "text": [
      "nhap hoanh do diem a:2\n",
      "nhap tung do diem a:3\n",
      "nhap hoanh do diem b:4\n",
      "nhap tung do diem b:6\n",
      "nhap hoanh do diem c:5\n",
      "nhap tung do diem c:7\n",
      " AB==BC la tam giac! False\n"
     ]
    }
   ],
   "source": [
    "import math \n",
    "xa = float(input(\"nhap hoanh do diem a:\"))\n",
    "ya = float(input(\"nhap tung do diem a:\"))\n",
    "xb = float(input(\"nhap hoanh do diem b:\"))\n",
    "yb = float(input(\"nhap tung do diem b:\"))\n",
    "xc = float(input(\"nhap hoanh do diem c:\"))\n",
    "yc = float(input(\"nhap tung do diem c:\"))\n",
    "# do dai vectc\n",
    "AB = math.sqrt((xa-xb)**2+(ya-yb)**2)\n",
    "BC = math.sqrt((xb-xc)**2+(yb-yc)**2)\n",
    "AC = math.sqrt((xa-xc)**2+(ya-yb)**2)\n",
    "print(\" AB==BC la tam giac!\",AB==BC)\n",
    "# ve tam giac\n",
    "import turtle\n",
    "t = turtle.Turtle()\n",
    "t.shape('turtle')\n",
    "t.pencolor('blue')\n",
    "t.penup()\n",
    "t.goto(xa,ya)\n",
    "t.pendown()\n",
    "t.goto(xb,yb)\n",
    "t.goto(xc,yc)\n",
    "t.goto(xa,ya)\n",
    "turtle.done()\n"
   ]
  },
  {
   "cell_type": "code",
   "execution_count": null,
   "id": "e818b8e5",
   "metadata": {},
   "outputs": [],
   "source": [
    "# tinh do dai duong cao tu dinh\n",
    "p=((AB+BC+AC)/2)\n",
    "ha = 2*(math.sqrt(p*(p-AB)*(p-BC)*(p-AC))/AB)\n",
    "hb = 2*(math.sqrt(p*(p-AB)*(p-BC)*(p-AC))/BC)\n",
    "hc = 2*(math.sqrt(p*(p-AB)*(p-BC)*(p-AC))/AC)\n",
    "print('Do dai duong cao ha tu dinh A la :{0} '.format(ha))\n",
    "print('Do dai duong cao ha tu dinh B la :{0} '.format(hb))\n",
    "print('Do dai duong cao ha tu dinh C la :{0} '.format(hc))\n",
    "# tinh do dai duong trung tinh\n",
    "ma = math.sqrt(((BC**2 + AC**2)/2) - (AB**2)/4)\n",
    "mb = math.sqrt(((AB**2 + AC**2)/2) - (BC**2)/4)\n",
    "mc = math.sqrt(((AB**2 + BC**2)/2) - (AC**2)/4)\n",
    "print('Độ dài đường trung tuyến hạ từ đỉnh A là: {0}'.format(ma))\n",
    "print('Độ dài đường trung tuyến hạ từ đỉnh B là: {0}'.format(mb))\n",
    "print('Độ dài đường trung tuyến hạ từ đỉnh C là: {0}'.format(mc))\n",
    "#xac dinh trong tam tam giac\n",
    "xg = (xa+xb+xc)/3\n",
    "yg = (ya+yb+yc)/3\n",
    "print('hoanh do trong tam tam giac la:{0}'.format(xg))\n",
    "print('tung do trong tam tam giac la :{0}'.format(yg))\n",
    "# xac dinh truc tam tam giac\n",
    "\n"
   ]
  }
 ],
 "metadata": {
  "kernelspec": {
   "display_name": "Python 3 (ipykernel)",
   "language": "python",
   "name": "python3"
  },
  "language_info": {
   "codemirror_mode": {
    "name": "ipython",
    "version": 3
   },
   "file_extension": ".py",
   "mimetype": "text/x-python",
   "name": "python",
   "nbconvert_exporter": "python",
   "pygments_lexer": "ipython3",
   "version": "3.10.5"
  }
 },
 "nbformat": 4,
 "nbformat_minor": 5
}

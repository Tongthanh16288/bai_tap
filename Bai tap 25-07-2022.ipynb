{
 "cells": [
  {
   "cell_type": "code",
   "execution_count": 2,
   "id": "5cf4740f",
   "metadata": {},
   "outputs": [
    {
     "name": "stdout",
     "output_type": "stream",
     "text": [
      "Nhập họ tên:Tống XuÂn ThÀnh\n",
      "Tống Xuân Thành\n"
     ]
    }
   ],
   "source": [
    "# Bài 1 : Nhập họ và tên của một người ( giả sử chỉ có 3 chữ)\n",
    "# in họ và tên người đó ra\n",
    "\n",
    "name = input('Nhập họ tên:')\n",
    "name = name.lower().strip().split()\n",
    "\n",
    "new_name =''\n",
    "for n in name : new_name += n[0].upper() +n[1:] +' '\n",
    "print(new_name.strip())"
   ]
  },
  {
   "cell_type": "code",
   "execution_count": 4,
   "id": "fcfde6b1",
   "metadata": {},
   "outputs": [
    {
     "name": "stdout",
     "output_type": "stream",
     "text": [
      "Nhập chuỗi:dhauhwuycbu1549239812998\n",
      "Tổng sô chẵn là: 24\n",
      "Tổng số lẻ là: 46\n"
     ]
    }
   ],
   "source": [
    "# bài 2 Nhập vào 1 chuỗi gồm chữ số và chữ cái \n",
    "# tinh tổng các chữ số chẵn, lẻ trong chuỗi\n",
    "text = input('Nhập chuỗi:')\n",
    "\n",
    "so_le = 0\n",
    "so_le += text.count('1')*1\n",
    "so_le += text.count('3')*3\n",
    "so_le += text.count('5')*5\n",
    "so_le += text.count('7')*7\n",
    "so_le += text.count('9')*9\n",
    "\n",
    "so_chan = 0\n",
    "so_chan += text.count('2')*2\n",
    "so_chan += text.count('4')*4\n",
    "so_chan += text.count('6')*6\n",
    "so_chan += text.count('8')*8\n",
    "\n",
    "print('Tổng sô chẵn là:',so_chan)\n",
    "print('Tổng số lẻ là:',so_le)"
   ]
  },
  {
   "cell_type": "code",
   "execution_count": null,
   "id": "ca431020",
   "metadata": {},
   "outputs": [],
   "source": []
  },
  {
   "cell_type": "code",
   "execution_count": null,
   "id": "d6273058",
   "metadata": {},
   "outputs": [],
   "source": []
  }
 ],
 "metadata": {
  "kernelspec": {
   "display_name": "Python 3 (ipykernel)",
   "language": "python",
   "name": "python3"
  },
  "language_info": {
   "codemirror_mode": {
    "name": "ipython",
    "version": 3
   },
   "file_extension": ".py",
   "mimetype": "text/x-python",
   "name": "python",
   "nbconvert_exporter": "python",
   "pygments_lexer": "ipython3",
   "version": "3.10.5"
  }
 },
 "nbformat": 4,
 "nbformat_minor": 5
}
